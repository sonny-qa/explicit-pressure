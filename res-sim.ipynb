{
 "cells": [
  {
   "cell_type": "code",
   "execution_count": 101,
   "metadata": {
    "collapsed": true
   },
   "outputs": [],
   "source": [
    "import numpy as np\n",
    "import pandas as pd\n",
    "import matplotlib.pyplot as plt\n",
    "import math"
   ]
  },
  {
   "cell_type": "code",
   "execution_count": null,
   "metadata": {
    "collapsed": true
   },
   "outputs": [],
   "source": []
  },
  {
   "cell_type": "markdown",
   "metadata": {},
   "source": [
    "# Set up variables"
   ]
  },
  {
   "cell_type": "code",
   "execution_count": 483,
   "metadata": {
    "collapsed": true
   },
   "outputs": [],
   "source": [
    "dx, dy, dz = 50, 100, 50 #ft\n",
    "K = 800 #mD\n",
    "A = dy*dz\n",
    "mu = 0.5 #cP\n",
    "poro = 0.20\n",
    "ct = 10e-6"
   ]
  },
  {
   "cell_type": "code",
   "execution_count": 484,
   "metadata": {
    "collapsed": true
   },
   "outputs": [],
   "source": [
    "#return q in bbl/sec\n",
    "def q (perm,area,mu,dp,dx):\n",
    "    bd_day = 0.001127*((perm*area)/mu)*(dp/dx)\n",
    "    return ((bd_day/(24*60*60)))\n",
    "\n",
    "#expects vol in bbls and cell_vol in ft3 return p_change in psi\n",
    "def p_change (vol,ct,cell_vol):\n",
    "    return (vol/(ct*(cell_vol*0.1781*poro)))\n",
    "    "
   ]
  },
  {
   "cell_type": "code",
   "execution_count": 654,
   "metadata": {
    "collapsed": false
   },
   "outputs": [],
   "source": [
    "df = pd.DataFrame({ 'Time_(sec)' : range(0, 2001 ,step)})\n",
    "df['time_diff_(sec)'] = step\n",
    "df.set_value(0,'pressure_cells',initial_dp)\n",
    "df.insert(2,'Volume_tx_(bbls)',q(K,A,mu,df['pressure_cells'],dx)*df['time_diff_(sec)'])\n",
    "df.insert(3,'dp',p_change(df['Volume_tx_(bbls)'],ct,dx*dy*dz))\n",
    "\n",
    "\n"
   ]
  },
  {
   "cell_type": "code",
   "execution_count": 655,
   "metadata": {
    "collapsed": false
   },
   "outputs": [],
   "source": [
    "for i in range(1,len(df)):\n",
    "    df.loc[i,'pressure_cells']= df.loc[i-1,'pressure_cells'] - (df.loc[i-1,'dp']*2)\n",
    "    df.loc[i,'Volume_tx_(bbls)'] = q(K,A,mu,df.loc[i,'pressure_cells'],dx)*df.loc[i,'time_diff_(sec)']\n",
    "    df.loc[i,'dp'] = p_change(df.loc[i,'Volume_tx_(bbls)'],ct,dx*dy*dz)"
   ]
  },
  {
   "cell_type": "code",
   "execution_count": 656,
   "metadata": {
    "collapsed": false
   },
   "outputs": [
    {
     "data": {
      "text/html": [
       "<div>\n",
       "<table border=\"1\" class=\"dataframe\">\n",
       "  <thead>\n",
       "    <tr style=\"text-align: right;\">\n",
       "      <th></th>\n",
       "      <th>Time_(sec)</th>\n",
       "      <th>time_diff_(sec)</th>\n",
       "      <th>Volume_tx_(bbls)</th>\n",
       "      <th>dp</th>\n",
       "      <th>pressure_cells</th>\n",
       "    </tr>\n",
       "  </thead>\n",
       "  <tbody>\n",
       "    <tr>\n",
       "      <th>0</th>\n",
       "      <td>0</td>\n",
       "      <td>20</td>\n",
       "      <td>2.087037</td>\n",
       "      <td>23.436688</td>\n",
       "      <td>50.000000</td>\n",
       "    </tr>\n",
       "    <tr>\n",
       "      <th>1</th>\n",
       "      <td>20</td>\n",
       "      <td>20</td>\n",
       "      <td>0.130508</td>\n",
       "      <td>1.465555</td>\n",
       "      <td>3.126625</td>\n",
       "    </tr>\n",
       "    <tr>\n",
       "      <th>2</th>\n",
       "      <td>40</td>\n",
       "      <td>20</td>\n",
       "      <td>0.008161</td>\n",
       "      <td>0.091645</td>\n",
       "      <td>0.195516</td>\n",
       "    </tr>\n",
       "    <tr>\n",
       "      <th>3</th>\n",
       "      <td>60</td>\n",
       "      <td>20</td>\n",
       "      <td>0.000510</td>\n",
       "      <td>0.005731</td>\n",
       "      <td>0.012226</td>\n",
       "    </tr>\n",
       "    <tr>\n",
       "      <th>4</th>\n",
       "      <td>80</td>\n",
       "      <td>20</td>\n",
       "      <td>0.000032</td>\n",
       "      <td>0.000358</td>\n",
       "      <td>0.000765</td>\n",
       "    </tr>\n",
       "  </tbody>\n",
       "</table>\n",
       "</div>"
      ],
      "text/plain": [
       "   Time_(sec)  time_diff_(sec)  Volume_tx_(bbls)         dp  pressure_cells\n",
       "0           0               20          2.087037  23.436688       50.000000\n",
       "1          20               20          0.130508   1.465555        3.126625\n",
       "2          40               20          0.008161   0.091645        0.195516\n",
       "3          60               20          0.000510   0.005731        0.012226\n",
       "4          80               20          0.000032   0.000358        0.000765"
      ]
     },
     "execution_count": 656,
     "metadata": {},
     "output_type": "execute_result"
    }
   ],
   "source": [
    "df.head()"
   ]
  },
  {
   "cell_type": "code",
   "execution_count": 190,
   "metadata": {
    "collapsed": false
   },
   "outputs": [
    {
     "name": "stdout",
     "output_type": "stream",
     "text": [
      "[2, 26, 50, 74, 98, 122, 146, 170, 194]\n"
     ]
    }
   ],
   "source": [
    "first_timestep = 1\n",
    "timesteps = [x*2 for x in range(1,100,12)]\n",
    "print(timesteps)\n"
   ]
  },
  {
   "cell_type": "code",
   "execution_count": 651,
   "metadata": {
    "collapsed": false
   },
   "outputs": [],
   "source": [
    "t = [2,4,10,20,21,32,38,40,42,44]\n",
    "t2 = [32,38,42,48,52]\n",
    "t3 = [20,35,50,60,75]"
   ]
  },
  {
   "cell_type": "code",
   "execution_count": 663,
   "metadata": {
    "collapsed": false
   },
   "outputs": [
    {
     "data": {
      "text/html": [
       "<div>\n",
       "<table border=\"1\" class=\"dataframe\">\n",
       "  <thead>\n",
       "    <tr style=\"text-align: right;\">\n",
       "      <th></th>\n",
       "      <th>20</th>\n",
       "      <th>35</th>\n",
       "      <th>50</th>\n",
       "      <th>60</th>\n",
       "      <th>75</th>\n",
       "    </tr>\n",
       "  </thead>\n",
       "  <tbody>\n",
       "    <tr>\n",
       "      <th>0</th>\n",
       "      <td>37.498700</td>\n",
       "      <td>37.498700</td>\n",
       "      <td>37.498700</td>\n",
       "      <td>37.498700</td>\n",
       "      <td>37.498700</td>\n",
       "    </tr>\n",
       "    <tr>\n",
       "      <th>1</th>\n",
       "      <td>-41.246621</td>\n",
       "      <td>-29.997011</td>\n",
       "      <td>-18.747401</td>\n",
       "      <td>-11.247661</td>\n",
       "      <td>0.001950</td>\n",
       "    </tr>\n",
       "    <tr>\n",
       "      <th>2</th>\n",
       "      <td>20.621166</td>\n",
       "      <td>14.996946</td>\n",
       "      <td>9.372726</td>\n",
       "      <td>5.623246</td>\n",
       "      <td>-0.000975</td>\n",
       "    </tr>\n",
       "    <tr>\n",
       "      <th>3</th>\n",
       "      <td>-10.309511</td>\n",
       "      <td>-7.497693</td>\n",
       "      <td>-4.685876</td>\n",
       "      <td>-2.811330</td>\n",
       "      <td>0.000487</td>\n",
       "    </tr>\n",
       "    <tr>\n",
       "      <th>4</th>\n",
       "      <td>5.154219</td>\n",
       "      <td>3.748457</td>\n",
       "      <td>2.342694</td>\n",
       "      <td>1.405519</td>\n",
       "      <td>-0.000244</td>\n",
       "    </tr>\n",
       "  </tbody>\n",
       "</table>\n",
       "</div>"
      ],
      "text/plain": [
       "          20         35         50         60         75\n",
       "0  37.498700  37.498700  37.498700  37.498700  37.498700\n",
       "1 -41.246621 -29.997011 -18.747401 -11.247661   0.001950\n",
       "2  20.621166  14.996946   9.372726   5.623246  -0.000975\n",
       "3 -10.309511  -7.497693  -4.685876  -2.811330   0.000487\n",
       "4   5.154219   3.748457   2.342694   1.405519  -0.000244"
      ]
     },
     "execution_count": 663,
     "metadata": {},
     "output_type": "execute_result"
    }
   ],
   "source": [
    "figure, axes = plt.subplots()\n",
    "results=pd.DataFrame()\n",
    "max_steps = 100\n",
    "\n",
    "\n",
    "for s in t3:\n",
    "    \n",
    "    df2 = pd.DataFrame({ 'Time_(sec)' : range(0, s*max_steps ,32)})\n",
    "    df2['time_diff_(sec)'] = 32\n",
    "    df2.set_value(0,'pressure_cells',s)\n",
    "    df2.insert(2,'Volume_tx_(bbls)',q(K,A,mu,df['pressure_cells'],dx)*df2['time_diff_(sec)'])\n",
    "    df2.insert(3,'dp',p_change(df2['Volume_tx_(bbls)'],ct,dx*dy*dz))\n",
    "\n",
    "    for i in range(1,len(df2)):\n",
    "                \n",
    "        df2.loc[i,'pressure_cells']= df2.loc[i-1,'pressure_cells'] - (df2.loc[i-1,'dp']*2)\n",
    "        df2.loc[i,'Volume_tx_(bbls)'] = q(K,A,mu,df2.loc[i,'pressure_cells'],dx)*df2.loc[i,'time_diff_(sec)']\n",
    "        df2.loc[i,'dp'] = p_change(df2.loc[i,'Volume_tx_(bbls)'],ct,dx*dy*dz)\n",
    "\n",
    "        \n",
    "\n",
    "    results[s]= df2[['dp']].copy() \n",
    "    \n",
    "results.head()\n",
    "\n"
   ]
  },
  {
   "cell_type": "code",
   "execution_count": 664,
   "metadata": {
    "collapsed": false
   },
   "outputs": [
    {
     "name": "stderr",
     "output_type": "stream",
     "text": [
      "/Users/sonnyparsonage/anaconda2/lib/python2.7/site-packages/ipykernel/__main__.py:6: FutureWarning: sort(....) is deprecated, use sort_index(.....)\n"
     ]
    },
    {
     "data": {
      "image/png": "[encoded data removed]",
      "text/plain": [
       "<matplotlib.figure.Figure at 0x117bff550>"
      ]
     },
     "metadata": {},
     "output_type": "display_data"
    }
   ],
   "source": [
    "plt.close()\n",
    "\n",
    "\n",
    "results.loc[-1] = t3\n",
    "results.index = results.index+1\n",
    "results = results.sort()\n",
    "results.head()\n",
    "\n",
    "for n in range(len(t3)):\n",
    "    plt.plot(results.iloc[:,n],label=t3[n],linestyle='-',linewidth=1.5)\n",
    "\n",
    "\n",
    "plt.xlim([0,4])\n",
    "plt.ylim([-100,100])\n",
    "\n",
    "plt.minorticks_on\n",
    "plt.grid(which='both')\n",
    "\n",
    "plt.legend()\n",
    "plt.title('Pressure differential at different initial pressures')\n",
    "plt.xlabel('Number of time steps, x 32 seconds')\n",
    "plt.ylabel('Pressure differential, (psi)')\n",
    "\n",
    "plt.savefig('graph4c.png',dpi=400)\n",
    "plt.show()"
   ]
  },
  {
   "cell_type": "code",
   "execution_count": 501,
   "metadata": {
    "collapsed": false
   },
   "outputs": [],
   "source": [
    "plt.close()"
   ]
  },
  {
   "cell_type": "code",
   "execution_count": 621,
   "metadata": {
    "collapsed": false
   },
   "outputs": [],
   "source": [
    "def converg(pressure,start_dp,occurances,time_step):\n",
    "    count = 0\n",
    "    point = 0\n",
    "    \n",
    "    for i in range(len(pressure)):\n",
    "        #print (abs(pressure[i]))\n",
    "        if (abs(pressure[i])<=start_dp):\n",
    "            count+=1\n",
    "            if (count>=occurances):\n",
    "                point = i\n",
    "                break\n",
    "    \n",
    "    if (point == 0):\n",
    "        return \"Divergent\"\n",
    "    return \"Convergent\"\n",
    "\n",
    "#pressure is a column of dp results, occurances is how many points should satisfy before we conclude, and time_step us used \n",
    "# to calculate the time at which the determined index occurs\n",
    "\n",
    "def stable(pressure,start_dp,occurances,time_step):\n",
    "    count = 0\n",
    "    point = 0\n",
    "    \n",
    "    for i in range(len(pressure)):\n",
    "\n",
    "        if (abs(pressure[i])<=((start_dp)/2)):\n",
    "            count+=1\n",
    "            if (count>=occurances):\n",
    "                print('the value',i)\n",
    "                point = i\n",
    "                break\n",
    "\n",
    "    if (point == 0):\n",
    "        return \"Unstable\"\n",
    "    return (point*time_step)-time_step\n",
    "        \n",
    "        \n",
    "    "
   ]
  },
  {
   "cell_type": "code",
   "execution_count": 634,
   "metadata": {
    "collapsed": false
   },
   "outputs": [
    {
     "data": {
      "text/plain": [
       "75"
      ]
     },
     "execution_count": 634,
     "metadata": {},
     "output_type": "execute_result"
    }
   ],
   "source": [
    "len(results.columns)\n",
    "t3[4]"
   ]
  },
  {
   "cell_type": "code",
   "execution_count": 665,
   "metadata": {
    "collapsed": false,
    "scrolled": true
   },
   "outputs": [
    {
     "name": "stdout",
     "output_type": "stream",
     "text": [
      "('the value', 5)\n",
      "('the value', 3)\n",
      "('the value', 2)\n",
      "('the value', 2)\n",
      "('the value', 2)\n"
     ]
    },
    {
     "data": {
      "text/html": [
       "<div>\n",
       "<table border=\"1\" class=\"dataframe\">\n",
       "  <thead>\n",
       "    <tr style=\"text-align: right;\">\n",
       "      <th></th>\n",
       "      <th>Time step (secs)</th>\n",
       "      <th>Time to stability, (secs)</th>\n",
       "    </tr>\n",
       "  </thead>\n",
       "  <tbody>\n",
       "    <tr>\n",
       "      <th>0</th>\n",
       "      <td>20.0</td>\n",
       "      <td>128.0</td>\n",
       "    </tr>\n",
       "    <tr>\n",
       "      <th>1</th>\n",
       "      <td>35.0</td>\n",
       "      <td>64.0</td>\n",
       "    </tr>\n",
       "    <tr>\n",
       "      <th>2</th>\n",
       "      <td>50.0</td>\n",
       "      <td>32.0</td>\n",
       "    </tr>\n",
       "    <tr>\n",
       "      <th>3</th>\n",
       "      <td>60.0</td>\n",
       "      <td>32.0</td>\n",
       "    </tr>\n",
       "    <tr>\n",
       "      <th>4</th>\n",
       "      <td>75.0</td>\n",
       "      <td>32.0</td>\n",
       "    </tr>\n",
       "  </tbody>\n",
       "</table>\n",
       "</div>"
      ],
      "text/plain": [
       "   Time step (secs)  Time to stability, (secs)\n",
       "0              20.0                      128.0\n",
       "1              35.0                       64.0\n",
       "2              50.0                       32.0\n",
       "3              60.0                       32.0\n",
       "4              75.0                       32.0"
      ]
     },
     "execution_count": 665,
     "metadata": {},
     "output_type": "execute_result"
    }
   ],
   "source": [
    "summary = pd.DataFrame()\n",
    "i = [i for i in range(len(t3))]\n",
    "j=0\n",
    "for col in results:\n",
    "    \n",
    "    p = (t3[j])\n",
    "    \n",
    "    summary.loc[col,'Time step (secs)'] = col\n",
    "    summary.loc[col,'Time to stability, (secs)'] = (stable(results[col],p,1,32))\n",
    "    #summary.loc[col,'converg/diverge'] = (converg(results[col],50,2,col))\n",
    "    j+=1\n",
    "#summary.columns = ['Time step (secs)','Stability time (secs)','Covnergence time, (secs)']\n",
    "#summary.index.name =['t']\n",
    "summary.reset_index(drop=True)\n",
    "#summary.to_clipboard()\n"
   ]
  },
  {
   "cell_type": "code",
   "execution_count": 478,
   "metadata": {
    "collapsed": false
   },
   "outputs": [
    {
     "name": "stdout",
     "output_type": "stream",
     "text": [
      "80\n",
      "85\n",
      "90\n",
      "100\n"
     ]
    },
    {
     "data": {
      "text/html": [
       "<div>\n",
       "<table border=\"1\" class=\"dataframe\">\n",
       "  <thead>\n",
       "    <tr style=\"text-align: right;\">\n",
       "      <th></th>\n",
       "      <th>Time step (secs)</th>\n",
       "      <th>stability time, (secs)</th>\n",
       "      <th>convergence time, (secs)</th>\n",
       "    </tr>\n",
       "  </thead>\n",
       "  <tbody>\n",
       "    <tr>\n",
       "      <th>0</th>\n",
       "      <td>80.0</td>\n",
       "      <td>480</td>\n",
       "      <td>0</td>\n",
       "    </tr>\n",
       "    <tr>\n",
       "      <th>1</th>\n",
       "      <td>85.0</td>\n",
       "      <td>7565</td>\n",
       "      <td>0</td>\n",
       "    </tr>\n",
       "    <tr>\n",
       "      <th>2</th>\n",
       "      <td>90.0</td>\n",
       "      <td>Unstable</td>\n",
       "      <td>Divergent</td>\n",
       "    </tr>\n",
       "    <tr>\n",
       "      <th>3</th>\n",
       "      <td>100.0</td>\n",
       "      <td>Unstable</td>\n",
       "      <td>Divergent</td>\n",
       "    </tr>\n",
       "  </tbody>\n",
       "</table>\n",
       "</div>"
      ],
      "text/plain": [
       "   Time step (secs) stability time, (secs) convergence time, (secs)\n",
       "0              80.0                    480                        0\n",
       "1              85.0                   7565                        0\n",
       "2              90.0               Unstable                Divergent\n",
       "3             100.0               Unstable                Divergent"
      ]
     },
     "execution_count": 478,
     "metadata": {},
     "output_type": "execute_result"
    }
   ],
   "source": [
    "summary2 = pd.DataFrame()\n",
    "\n",
    "for col in results:\n",
    "    print(col)\n",
    "    summary2.loc[col,'Time step (secs)'] = col\n",
    "    summary2.loc[col,'stability time, (secs)'] = (stable(results[col],50,1,col))\n",
    "    summary2.loc[col,'convergence time, (secs)'] = (converg(results[col],50,1,col))\n",
    "\n",
    "#summary.columns = ['Time step (secs)','Stability time (secs)','Covnergence time, (secs)']\n",
    "#summary.index.name =['t']\n",
    "summary2.reset_index(drop=True)\n"
   ]
  },
  {
   "cell_type": "code",
   "execution_count": 528,
   "metadata": {
    "collapsed": false
   },
   "outputs": [
    {
     "data": {
      "text/plain": [
       "[50, 50, 50, 50]"
      ]
     },
     "execution_count": 528,
     "metadata": {},
     "output_type": "execute_result"
    }
   ],
   "source": []
  },
  {
   "cell_type": "code",
   "execution_count": 722,
   "metadata": {
    "collapsed": false
   },
   "outputs": [
    {
     "name": "stdout",
     "output_type": "stream",
     "text": [
      "9016.0\n",
      "30\n",
      "40\n",
      "50\n",
      "60\n",
      "70\n",
      "80\n",
      "90\n"
     ]
    },
    {
     "data": {
      "text/html": [
       "<div>\n",
       "<table border=\"1\" class=\"dataframe\">\n",
       "  <thead>\n",
       "    <tr style=\"text-align: right;\">\n",
       "      <th></th>\n",
       "      <th>explicit pressure</th>\n",
       "      <th>stability time</th>\n",
       "      <th>convergence time</th>\n",
       "    </tr>\n",
       "  </thead>\n",
       "  <tbody>\n",
       "    <tr>\n",
       "      <th>30</th>\n",
       "      <td>30</td>\n",
       "      <td>12.8004</td>\n",
       "      <td>25.6009</td>\n",
       "    </tr>\n",
       "    <tr>\n",
       "      <th>40</th>\n",
       "      <td>40</td>\n",
       "      <td>17.0673</td>\n",
       "      <td>34.1345</td>\n",
       "    </tr>\n",
       "    <tr>\n",
       "      <th>50</th>\n",
       "      <td>50</td>\n",
       "      <td>21.3341</td>\n",
       "      <td>42.6681</td>\n",
       "    </tr>\n",
       "    <tr>\n",
       "      <th>60</th>\n",
       "      <td>60</td>\n",
       "      <td>25.6009</td>\n",
       "      <td>51.2018</td>\n",
       "    </tr>\n",
       "    <tr>\n",
       "      <th>70</th>\n",
       "      <td>70</td>\n",
       "      <td>29.8677</td>\n",
       "      <td>59.7354</td>\n",
       "    </tr>\n",
       "    <tr>\n",
       "      <th>80</th>\n",
       "      <td>80</td>\n",
       "      <td>34.1345</td>\n",
       "      <td>68.269</td>\n",
       "    </tr>\n",
       "    <tr>\n",
       "      <th>90</th>\n",
       "      <td>90</td>\n",
       "      <td>38.4013</td>\n",
       "      <td>76.8027</td>\n",
       "    </tr>\n",
       "  </tbody>\n",
       "</table>\n",
       "</div>"
      ],
      "text/plain": [
       "   explicit pressure stability time convergence time\n",
       "30                30        12.8004          25.6009\n",
       "40                40        17.0673          34.1345\n",
       "50                50        21.3341          42.6681\n",
       "60                60        25.6009          51.2018\n",
       "70                70        29.8677          59.7354\n",
       "80                80        34.1345           68.269\n",
       "90                90        38.4013          76.8027"
      ]
     },
     "execution_count": 722,
     "metadata": {},
     "output_type": "execute_result"
    }
   ],
   "source": [
    "ps = [x for x in range(30,100,10)]\n",
    "\n",
    "q_fixed = q(K,A,mu,50,dx)*24*3600\n",
    "print(q_fixed)\n",
    "pf = pd.DataFrame(columns=['explicit pressure','stability time','convergence time'])\n",
    "\n",
    "for item in ps:\n",
    "    print item\n",
    "    val = ((item*ct*dx*dy*dz*0.1781*poro)/q_fixed)*3600*24\n",
    "    val2 = ((item/2*ct*dx*dy*dz*0.1781*poro)/q_fixed)*3600*24\n",
    "    pf.loc[item,'explicit pressure'] = item\n",
    "    pf.loc[item,'convergence time'] = val\n",
    "    pf.loc[item,'stability time'] = val2\n",
    "pf.reindex()"
   ]
  },
  {
   "cell_type": "code",
   "execution_count": 760,
   "metadata": {
    "collapsed": false
   },
   "outputs": [
    {
     "data": {
      "text/html": [
       "<div>\n",
       "<table border=\"1\" class=\"dataframe\">\n",
       "  <thead>\n",
       "    <tr style=\"text-align: right;\">\n",
       "      <th></th>\n",
       "      <th>explicit pressure</th>\n",
       "      <th>stability time</th>\n",
       "      <th>convergence time</th>\n",
       "    </tr>\n",
       "  </thead>\n",
       "  <tbody>\n",
       "    <tr>\n",
       "      <th>30</th>\n",
       "      <td>30</td>\n",
       "      <td>12.8004</td>\n",
       "      <td>25.6009</td>\n",
       "    </tr>\n",
       "    <tr>\n",
       "      <th>40</th>\n",
       "      <td>40</td>\n",
       "      <td>17.0673</td>\n",
       "      <td>34.1345</td>\n",
       "    </tr>\n",
       "    <tr>\n",
       "      <th>50</th>\n",
       "      <td>50</td>\n",
       "      <td>21.3341</td>\n",
       "      <td>42.6681</td>\n",
       "    </tr>\n",
       "    <tr>\n",
       "      <th>60</th>\n",
       "      <td>60</td>\n",
       "      <td>25.6009</td>\n",
       "      <td>51.2018</td>\n",
       "    </tr>\n",
       "    <tr>\n",
       "      <th>70</th>\n",
       "      <td>70</td>\n",
       "      <td>29.8677</td>\n",
       "      <td>59.7354</td>\n",
       "    </tr>\n",
       "    <tr>\n",
       "      <th>80</th>\n",
       "      <td>80</td>\n",
       "      <td>34.1345</td>\n",
       "      <td>68.269</td>\n",
       "    </tr>\n",
       "    <tr>\n",
       "      <th>90</th>\n",
       "      <td>90</td>\n",
       "      <td>38.4013</td>\n",
       "      <td>76.8027</td>\n",
       "    </tr>\n",
       "  </tbody>\n",
       "</table>\n",
       "</div>"
      ],
      "text/plain": [
       "   explicit pressure stability time convergence time\n",
       "30                30        12.8004          25.6009\n",
       "40                40        17.0673          34.1345\n",
       "50                50        21.3341          42.6681\n",
       "60                60        25.6009          51.2018\n",
       "70                70        29.8677          59.7354\n",
       "80                80        34.1345           68.269\n",
       "90                90        38.4013          76.8027"
      ]
     },
     "execution_count": 760,
     "metadata": {},
     "output_type": "execute_result"
    }
   ],
   "source": [
    "pf"
   ]
  },
  {
   "cell_type": "code",
   "execution_count": 792,
   "metadata": {
    "collapsed": false
   },
   "outputs": [
    {
     "data": {
      "image/png": "[encoded data removed]",
      "text/plain": [
       "<matplotlib.figure.Figure at 0x10a5e7f90>"
      ]
     },
     "metadata": {},
     "output_type": "display_data"
    }
   ],
   "source": [
    "plt.scatter(pf['stability time'],pf['explicit pressure'], label=\"stability time\",s=40)\n",
    "plt.scatter(pf['convergence time'],pf['explicit pressure'],color='r',label='convergence time',s=40,edgecolors='r')\n",
    "plt.grid(which='Major',color='0.3')\n",
    "plt.grid(which='Minor',color='0.3')\n",
    "plt.xlabel('Time, (seconds)')\n",
    "plt.ylabel('Explicit pressure, (psi)')\n",
    "plt.title('Stability and convergence time thresholds vs explicit pressure')\n",
    "plt.xticks(np.arange(1,ps[len(ps)-1],5))\n",
    "plt.legend(loc=4)\n",
    "\n",
    "plt.savefig('graph4e.png',dpi=400)\n",
    "plt.show()\n"
   ]
  },
  {
   "cell_type": "code",
   "execution_count": 791,
   "metadata": {
    "collapsed": false
   },
   "outputs": [
    {
     "data": {
      "image/png": "[encoded data removed]",
      "text/plain": [
       "<matplotlib.figure.Figure at 0x115faabd0>"
      ]
     },
     "metadata": {},
     "output_type": "display_data"
    }
   ],
   "source": [
    "steps = [21,32,38,40,42]\n",
    "stabil = [21,64,152,240,956]\n",
    "\n",
    "plt.bar(steps,stabil,width=1.6)\n",
    "plt.grid(which='Major',color='0.3')\n",
    "plt.grid(which='Minor',color='0.3')\n",
    "plt.xlabel('Time step size, (seconds)')\n",
    "plt.ylabel('Time to stabilise, (seconds)')\n",
    "plt.title('Stability time as a function of step size')\n",
    "plt.savefig('graph4d.png',dpi=400)\n",
    "plt.show()"
   ]
  },
  {
   "cell_type": "code",
   "execution_count": null,
   "metadata": {
    "collapsed": true
   },
   "outputs": [],
   "source": []
  }
 ],
 "metadata": {
  "kernelspec": {
   "display_name": "Python [Root]",
   "language": "python",
   "name": "Python [Root]"
  }
 },
 "nbformat": 4,
 "nbformat_minor": 0
}
